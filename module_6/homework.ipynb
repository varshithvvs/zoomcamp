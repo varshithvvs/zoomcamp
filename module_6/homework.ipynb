{
 "cells": [
  {
   "cell_type": "markdown",
   "id": "97yfKrCqBVSc",
   "metadata": {
    "id": "97yfKrCqBVSc"
   },
   "source": [
    "### Q1. Refactoring\n",
    "\n"
   ]
  },
  {
   "cell_type": "markdown",
   "id": "f055344d-f050-4fcf-8453-ee4a66407bfe",
   "metadata": {
    "colab": {
     "base_uri": "https://localhost:8080/"
    },
    "id": "f055344d-f050-4fcf-8453-ee4a66407bfe",
    "outputId": "68b659fe-15ba-468b-9f87-41122d66ba85"
   },
   "source": [
    "#### Ans1: if \\_\\_name\\_\\_ == \"\\_\\_main\\_\\_\":"
   ]
  },
  {
   "cell_type": "markdown",
   "id": "pWrLGUESBed6",
   "metadata": {
    "id": "pWrLGUESBed6"
   },
   "source": [
    "### Q2. Installing pytest"
   ]
  },
  {
   "cell_type": "markdown",
   "id": "b186962d-7ee1-4b97-a457-7ef2b2de811a",
   "metadata": {
    "id": "b186962d-7ee1-4b97-a457-7ef2b2de811a"
   },
   "source": [
    "#### Ans2: \\_\\_init\\_\\_.py"
   ]
  },
  {
   "cell_type": "markdown",
   "id": "0139f988",
   "metadata": {},
   "source": [
    "### Q3. Writing first unit test"
   ]
  },
  {
   "cell_type": "markdown",
   "id": "c0a7db0f",
   "metadata": {},
   "source": [
    "#### Ans3: 2"
   ]
  },
  {
   "cell_type": "markdown",
   "id": "613cf4bf",
   "metadata": {},
   "source": [
    "### Q4. Mocking S3 with Localstack"
   ]
  },
  {
   "cell_type": "markdown",
   "id": "fb81d6f7",
   "metadata": {},
   "source": [
    "#### Ans4: --endpoint-url"
   ]
  },
  {
   "cell_type": "markdown",
   "id": "4356af5b",
   "metadata": {},
   "source": [
    "### Q5. Creating test data"
   ]
  },
  {
   "cell_type": "markdown",
   "id": "ad4677f0",
   "metadata": {},
   "source": [
    "#### Ans5: 3620"
   ]
  },
  {
   "cell_type": "markdown",
   "id": "fbae7908",
   "metadata": {},
   "source": [
    "### Q6. Finish the integration test"
   ]
  },
  {
   "cell_type": "markdown",
   "id": "6dfffe32",
   "metadata": {},
   "source": [
    "#### Ans6: 36.28"
   ]
  }
 ],
 "metadata": {
  "colab": {
   "provenance": []
  },
  "kernelspec": {
   "display_name": "Python 3 (ipykernel)",
   "language": "python",
   "name": "python3"
  },
  "language_info": {
   "codemirror_mode": {
    "name": "ipython",
    "version": 3
   },
   "file_extension": ".py",
   "mimetype": "text/x-python",
   "name": "python",
   "nbconvert_exporter": "python",
   "pygments_lexer": "ipython3",
   "version": "3.12.3"
  }
 },
 "nbformat": 4,
 "nbformat_minor": 5
}
