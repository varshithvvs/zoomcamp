{
 "cells": [
  {
   "cell_type": "markdown",
   "id": "97yfKrCqBVSc",
   "metadata": {
    "id": "97yfKrCqBVSc"
   },
   "source": [
    "### Q1. Install MLFlow\n",
    "\n"
   ]
  },
  {
   "cell_type": "code",
   "execution_count": 1,
   "id": "cbe379c6-5a79-491b-af10-c85039a1d13c",
   "metadata": {
    "id": "cbe379c6-5a79-491b-af10-c85039a1d13c"
   },
   "outputs": [
    {
     "name": "stdout",
     "output_type": "stream",
     "text": [
      "mlflow, version 2.16.0\n"
     ]
    }
   ],
   "source": [
    "!mlflow --version"
   ]
  },
  {
   "cell_type": "markdown",
   "id": "pWrLGUESBed6",
   "metadata": {
    "id": "pWrLGUESBed6"
   },
   "source": [
    "### Q2. Download and preprocess the data"
   ]
  },
  {
   "cell_type": "code",
   "execution_count": 9,
   "id": "0e3e89da-45a3-4b12-99bb-8b56457cfa5a",
   "metadata": {
    "colab": {
     "base_uri": "https://localhost:8080/"
    },
    "id": "0e3e89da-45a3-4b12-99bb-8b56457cfa5a",
    "outputId": "289c84a9-b93f-4400-edd9-300dada8dec0"
   },
   "outputs": [],
   "source": [
    "!python scripts/preprocess_data.py --raw_data_path data  --dest_path output"
   ]
  },
  {
   "cell_type": "markdown",
   "id": "a7fae5fd",
   "metadata": {},
   "source": [
    "##### Answer: 4"
   ]
  },
  {
   "cell_type": "markdown",
   "id": "ca0c395a-d5cf-4870-aa64-edb4809bc662",
   "metadata": {
    "id": "ca0c395a-d5cf-4870-aa64-edb4809bc662"
   },
   "source": [
    "### Q3. Train a model with autolog"
   ]
  },
  {
   "cell_type": "code",
   "execution_count": 11,
   "id": "0fd4307e-f3b6-45ba-bf1d-82e4a1c09a9b",
   "metadata": {
    "id": "0fd4307e-f3b6-45ba-bf1d-82e4a1c09a9b"
   },
   "outputs": [
    {
     "name": "stdout",
     "output_type": "stream",
     "text": [
      "2024/09/12 07:28:59 WARNING mlflow.sklearn: Failed to log training dataset information to MLflow Tracking. Reason: 'numpy.ndarray' object has no attribute 'toarray'\n",
      "/home/varshithvvs/.cache/pypoetry/virtualenvs/zoomcamp-G3ZoO7PQ-py3.12/lib/python3.12/site-packages/sklearn/metrics/_regression.py:492: FutureWarning: 'squared' is deprecated in version 1.4 and will be removed in 1.6. To calculate the root mean squared error, use the function'root_mean_squared_error'.\n",
      "  warnings.warn(\n",
      "2024/09/12 07:29:13 INFO mlflow.tracking._tracking_service.client: 🏃 View run nebulous-dog-912 at: http://0.0.0.0:5000/#/experiments/0/runs/9e4caa637e3643c8a1be5c5b139b81ac.\n",
      "2024/09/12 07:29:13 INFO mlflow.tracking._tracking_service.client: 🧪 View experiment at: http://0.0.0.0:5000/#/experiments/0.\n"
     ]
    }
   ],
   "source": [
    "!python scripts/train.py --data_path output"
   ]
  },
  {
   "cell_type": "markdown",
   "id": "f1a1605f",
   "metadata": {},
   "source": [
    "##### Answer: 2"
   ]
  },
  {
   "cell_type": "markdown",
   "id": "00b428a6-3438-4482-91fb-04ed17f5fe8d",
   "metadata": {
    "id": "00b428a6-3438-4482-91fb-04ed17f5fe8d"
   },
   "source": [
    "### Q4. Launch the tracking server locally"
   ]
  },
  {
   "cell_type": "markdown",
   "id": "7d8b9693",
   "metadata": {},
   "source": [
    "##### Answer: default-artifact-root"
   ]
  },
  {
   "cell_type": "markdown",
   "id": "bb9c2670-07b9-4813-9798-d367fc6535fe",
   "metadata": {
    "id": "bb9c2670-07b9-4813-9798-d367fc6535fe"
   },
   "source": [
    "### Q5. Tune hypermodel parameters"
   ]
  },
  {
   "cell_type": "code",
   "execution_count": 12,
   "id": "098c5ff8-8e41-41a6-a7cd-760f9c79c1f9",
   "metadata": {
    "id": "098c5ff8-8e41-41a6-a7cd-760f9c79c1f9"
   },
   "outputs": [
    {
     "name": "stdout",
     "output_type": "stream",
     "text": [
      "2024/09/12 07:31:33 INFO mlflow.tracking.fluent: Experiment with name 'random-forest-hyperopt' does not exist. Creating a new experiment.\n",
      "  0%|                                    | 0/15 [00:00<?, ?trial/s, best loss=?]/home/varshithvvs/.cache/pypoetry/virtualenvs/zoomcamp-G3ZoO7PQ-py3.12/lib/python3.12/site-packages/sklearn/metrics/_regression.py:492: FutureWarning: 'squared' is deprecated in version 1.4 and will be removed in 1.6. To calculate the root mean squared error, use the function'root_mean_squared_error'.\n",
      "  warnings.warn(\n",
      "\n",
      "2024/09/12 07:31:39 INFO mlflow.tracking._tracking_service.client: 🏃 View run zealous-cub-800 at: http://0.0.0.0:5000/#/experiments/1/runs/b115a29d88b94eb68457789e85fdc992.\n",
      "\n",
      "2024/09/12 07:31:39 INFO mlflow.tracking._tracking_service.client: 🧪 View experiment at: http://0.0.0.0:5000/#/experiments/1.\n",
      "\n",
      "  7%|▋          | 1/15 [00:06<01:31,  6.52s/trial, best loss: 5.402042237319615]/home/varshithvvs/.cache/pypoetry/virtualenvs/zoomcamp-G3ZoO7PQ-py3.12/lib/python3.12/site-packages/sklearn/metrics/_regression.py:492: FutureWarning: 'squared' is deprecated in version 1.4 and will be removed in 1.6. To calculate the root mean squared error, use the function'root_mean_squared_error'.\n",
      "  warnings.warn(\n",
      "\n",
      "2024/09/12 07:31:40 INFO mlflow.tracking._tracking_service.client: 🏃 View run big-cub-747 at: http://0.0.0.0:5000/#/experiments/1/runs/a9c66fee8d9d45da975ed8306994aa12.\n",
      "\n",
      "2024/09/12 07:31:40 INFO mlflow.tracking._tracking_service.client: 🧪 View experiment at: http://0.0.0.0:5000/#/experiments/1.\n",
      "\n",
      " 13%|█▍         | 2/15 [00:06<00:38,  2.93s/trial, best loss: 5.402042237319615]/home/varshithvvs/.cache/pypoetry/virtualenvs/zoomcamp-G3ZoO7PQ-py3.12/lib/python3.12/site-packages/sklearn/metrics/_regression.py:492: FutureWarning: 'squared' is deprecated in version 1.4 and will be removed in 1.6. To calculate the root mean squared error, use the function'root_mean_squared_error'.\n",
      "  warnings.warn(\n",
      "\n",
      "2024/09/12 07:31:40 INFO mlflow.tracking._tracking_service.client: 🏃 View run learned-stag-653 at: http://0.0.0.0:5000/#/experiments/1/runs/4a81cf12477b4e309b4ab1b6402b7228.\n",
      "\n",
      "2024/09/12 07:31:40 INFO mlflow.tracking._tracking_service.client: 🧪 View experiment at: http://0.0.0.0:5000/#/experiments/1.\n",
      "\n",
      " 20%|██▏        | 3/15 [00:07<00:22,  1.85s/trial, best loss: 5.402042237319615]/home/varshithvvs/.cache/pypoetry/virtualenvs/zoomcamp-G3ZoO7PQ-py3.12/lib/python3.12/site-packages/sklearn/metrics/_regression.py:492: FutureWarning: 'squared' is deprecated in version 1.4 and will be removed in 1.6. To calculate the root mean squared error, use the function'root_mean_squared_error'.\n",
      "  warnings.warn(\n",
      "\n",
      "2024/09/12 07:31:45 INFO mlflow.tracking._tracking_service.client: 🏃 View run adorable-flea-181 at: http://0.0.0.0:5000/#/experiments/1/runs/29001f1acc2c424396b0351a21fcc94c.\n",
      "\n",
      "2024/09/12 07:31:45 INFO mlflow.tracking._tracking_service.client: 🧪 View experiment at: http://0.0.0.0:5000/#/experiments/1.\n",
      "\n",
      " 27%|██▉        | 4/15 [00:12<00:31,  2.90s/trial, best loss: 5.396606791598098]/home/varshithvvs/.cache/pypoetry/virtualenvs/zoomcamp-G3ZoO7PQ-py3.12/lib/python3.12/site-packages/sklearn/metrics/_regression.py:492: FutureWarning: 'squared' is deprecated in version 1.4 and will be removed in 1.6. To calculate the root mean squared error, use the function'root_mean_squared_error'.\n",
      "  warnings.warn(\n",
      "\n",
      "2024/09/12 07:31:47 INFO mlflow.tracking._tracking_service.client: 🏃 View run traveling-trout-217 at: http://0.0.0.0:5000/#/experiments/1/runs/3372467107fb4fde9288b0fdec811f85.\n",
      "\n",
      "2024/09/12 07:31:47 INFO mlflow.tracking._tracking_service.client: 🧪 View experiment at: http://0.0.0.0:5000/#/experiments/1.\n",
      "\n",
      " 33%|███▋       | 5/15 [00:14<00:27,  2.71s/trial, best loss: 5.396606791598098]/home/varshithvvs/.cache/pypoetry/virtualenvs/zoomcamp-G3ZoO7PQ-py3.12/lib/python3.12/site-packages/sklearn/metrics/_regression.py:492: FutureWarning: 'squared' is deprecated in version 1.4 and will be removed in 1.6. To calculate the root mean squared error, use the function'root_mean_squared_error'.\n",
      "  warnings.warn(\n",
      "\n",
      "2024/09/12 07:31:59 INFO mlflow.tracking._tracking_service.client: 🏃 View run marvelous-owl-51 at: http://0.0.0.0:5000/#/experiments/1/runs/551c8115a77c460e9c703b966b47313a.\n",
      "\n",
      "2024/09/12 07:31:59 INFO mlflow.tracking._tracking_service.client: 🧪 View experiment at: http://0.0.0.0:5000/#/experiments/1.\n",
      "\n",
      " 40%|████▍      | 6/15 [00:25<00:51,  5.68s/trial, best loss: 5.389849418776429]/home/varshithvvs/.cache/pypoetry/virtualenvs/zoomcamp-G3ZoO7PQ-py3.12/lib/python3.12/site-packages/sklearn/metrics/_regression.py:492: FutureWarning: 'squared' is deprecated in version 1.4 and will be removed in 1.6. To calculate the root mean squared error, use the function'root_mean_squared_error'.\n",
      "  warnings.warn(\n",
      "\n",
      "2024/09/12 07:32:07 INFO mlflow.tracking._tracking_service.client: 🏃 View run upbeat-perch-144 at: http://0.0.0.0:5000/#/experiments/1/runs/f36d6b3ddc0948208756c60f532b8a2f.\n",
      "\n",
      "2024/09/12 07:32:07 INFO mlflow.tracking._tracking_service.client: 🧪 View experiment at: http://0.0.0.0:5000/#/experiments/1.\n",
      "\n",
      " 47%|████▋     | 7/15 [00:34<00:52,  6.62s/trial, best loss: 5.3646663276474795]/home/varshithvvs/.cache/pypoetry/virtualenvs/zoomcamp-G3ZoO7PQ-py3.12/lib/python3.12/site-packages/sklearn/metrics/_regression.py:492: FutureWarning: 'squared' is deprecated in version 1.4 and will be removed in 1.6. To calculate the root mean squared error, use the function'root_mean_squared_error'.\n",
      "  warnings.warn(\n",
      "\n",
      "2024/09/12 07:32:08 INFO mlflow.tracking._tracking_service.client: 🏃 View run popular-dog-690 at: http://0.0.0.0:5000/#/experiments/1/runs/7a4a9a82def448709727206707d2e3f0.\n",
      "\n",
      "2024/09/12 07:32:08 INFO mlflow.tracking._tracking_service.client: 🧪 View experiment at: http://0.0.0.0:5000/#/experiments/1.\n",
      "\n",
      " 53%|█████▎    | 8/15 [00:35<00:33,  4.81s/trial, best loss: 5.3646663276474795]/home/varshithvvs/.cache/pypoetry/virtualenvs/zoomcamp-G3ZoO7PQ-py3.12/lib/python3.12/site-packages/sklearn/metrics/_regression.py:492: FutureWarning: 'squared' is deprecated in version 1.4 and will be removed in 1.6. To calculate the root mean squared error, use the function'root_mean_squared_error'.\n",
      "  warnings.warn(\n",
      "\n",
      "2024/09/12 07:32:14 INFO mlflow.tracking._tracking_service.client: 🏃 View run nebulous-grouse-137 at: http://0.0.0.0:5000/#/experiments/1/runs/a8e65ca68ead49a6b355039a0595a518.\n",
      "\n",
      "2024/09/12 07:32:14 INFO mlflow.tracking._tracking_service.client: 🧪 View experiment at: http://0.0.0.0:5000/#/experiments/1.\n",
      "\n",
      " 60%|██████    | 9/15 [00:40<00:29,  4.96s/trial, best loss: 5.3646663276474795]/home/varshithvvs/.cache/pypoetry/virtualenvs/zoomcamp-G3ZoO7PQ-py3.12/lib/python3.12/site-packages/sklearn/metrics/_regression.py:492: FutureWarning: 'squared' is deprecated in version 1.4 and will be removed in 1.6. To calculate the root mean squared error, use the function'root_mean_squared_error'.\n",
      "  warnings.warn(\n",
      "\n",
      "2024/09/12 07:32:17 INFO mlflow.tracking._tracking_service.client: 🏃 View run charming-swan-443 at: http://0.0.0.0:5000/#/experiments/1/runs/bdcf2c1b3c9f4dcaa8900afe8aac91e2.\n",
      "\n",
      "2024/09/12 07:32:17 INFO mlflow.tracking._tracking_service.client: 🧪 View experiment at: http://0.0.0.0:5000/#/experiments/1.\n",
      "\n",
      " 67%|██████   | 10/15 [00:44<00:23,  4.63s/trial, best loss: 5.3646663276474795]/home/varshithvvs/.cache/pypoetry/virtualenvs/zoomcamp-G3ZoO7PQ-py3.12/lib/python3.12/site-packages/sklearn/metrics/_regression.py:492: FutureWarning: 'squared' is deprecated in version 1.4 and will be removed in 1.6. To calculate the root mean squared error, use the function'root_mean_squared_error'.\n",
      "  warnings.warn(\n",
      "\n",
      "2024/09/12 07:32:20 INFO mlflow.tracking._tracking_service.client: 🏃 View run shivering-kite-348 at: http://0.0.0.0:5000/#/experiments/1/runs/231acb2b6e4645c78854a6ee4eb17a0b.\n",
      "\n",
      "2024/09/12 07:32:20 INFO mlflow.tracking._tracking_service.client: 🧪 View experiment at: http://0.0.0.0:5000/#/experiments/1.\n",
      "\n",
      " 73%|██████▌  | 11/15 [00:47<00:16,  4.16s/trial, best loss: 5.3646663276474795]/home/varshithvvs/.cache/pypoetry/virtualenvs/zoomcamp-G3ZoO7PQ-py3.12/lib/python3.12/site-packages/sklearn/metrics/_regression.py:492: FutureWarning: 'squared' is deprecated in version 1.4 and will be removed in 1.6. To calculate the root mean squared error, use the function'root_mean_squared_error'.\n",
      "  warnings.warn(\n",
      "\n",
      "2024/09/12 07:32:23 INFO mlflow.tracking._tracking_service.client: 🏃 View run crawling-stork-966 at: http://0.0.0.0:5000/#/experiments/1/runs/7caef1abe4df45fa90dce6e44572f82d.\n",
      "\n",
      "2024/09/12 07:32:23 INFO mlflow.tracking._tracking_service.client: 🧪 View experiment at: http://0.0.0.0:5000/#/experiments/1.\n",
      "\n",
      " 80%|███████▏ | 12/15 [00:50<00:10,  3.66s/trial, best loss: 5.3646663276474795]/home/varshithvvs/.cache/pypoetry/virtualenvs/zoomcamp-G3ZoO7PQ-py3.12/lib/python3.12/site-packages/sklearn/metrics/_regression.py:492: FutureWarning: 'squared' is deprecated in version 1.4 and will be removed in 1.6. To calculate the root mean squared error, use the function'root_mean_squared_error'.\n",
      "  warnings.warn(\n",
      "\n",
      "2024/09/12 07:32:24 INFO mlflow.tracking._tracking_service.client: 🏃 View run thundering-moose-196 at: http://0.0.0.0:5000/#/experiments/1/runs/93258d2e7a7e455a960a3fe7068e5c0a.\n",
      "\n",
      "2024/09/12 07:32:24 INFO mlflow.tracking._tracking_service.client: 🧪 View experiment at: http://0.0.0.0:5000/#/experiments/1.\n",
      "\n",
      " 87%|███████▊ | 13/15 [00:50<00:05,  2.81s/trial, best loss: 5.3646663276474795]/home/varshithvvs/.cache/pypoetry/virtualenvs/zoomcamp-G3ZoO7PQ-py3.12/lib/python3.12/site-packages/sklearn/metrics/_regression.py:492: FutureWarning: 'squared' is deprecated in version 1.4 and will be removed in 1.6. To calculate the root mean squared error, use the function'root_mean_squared_error'.\n",
      "  warnings.warn(\n",
      "\n",
      "2024/09/12 07:32:30 INFO mlflow.tracking._tracking_service.client: 🏃 View run honorable-lark-690 at: http://0.0.0.0:5000/#/experiments/1/runs/90c09c569ebb4a2b87c1d3cb653bd238.\n",
      "\n",
      "2024/09/12 07:32:30 INFO mlflow.tracking._tracking_service.client: 🧪 View experiment at: http://0.0.0.0:5000/#/experiments/1.\n",
      "\n",
      " 93%|████████▍| 14/15 [00:57<00:03,  3.89s/trial, best loss: 5.3646663276474795]/home/varshithvvs/.cache/pypoetry/virtualenvs/zoomcamp-G3ZoO7PQ-py3.12/lib/python3.12/site-packages/sklearn/metrics/_regression.py:492: FutureWarning: 'squared' is deprecated in version 1.4 and will be removed in 1.6. To calculate the root mean squared error, use the function'root_mean_squared_error'.\n",
      "  warnings.warn(\n",
      "\n",
      "2024/09/12 07:32:35 INFO mlflow.tracking._tracking_service.client: 🏃 View run respected-mule-111 at: http://0.0.0.0:5000/#/experiments/1/runs/b3f1ca07eee144b38f7b5a91c98f397f.\n",
      "\n",
      "2024/09/12 07:32:35 INFO mlflow.tracking._tracking_service.client: 🧪 View experiment at: http://0.0.0.0:5000/#/experiments/1.\n",
      "\n",
      "100%|██████████| 15/15 [01:02<00:00,  4.15s/trial, best loss: 5.358790104729027]\n"
     ]
    }
   ],
   "source": [
    "!python scripts/hpo.py --data_path output"
   ]
  },
  {
   "cell_type": "markdown",
   "id": "9eb595b1",
   "metadata": {},
   "source": [
    "##### Answer: 5.335"
   ]
  },
  {
   "cell_type": "markdown",
   "id": "5259854b-65a5-4fd0-a8b9-87a41ce4835d",
   "metadata": {
    "id": "5259854b-65a5-4fd0-a8b9-87a41ce4835d"
   },
   "source": [
    "### Q6. Evaluating the model"
   ]
  },
  {
   "cell_type": "code",
   "execution_count": 13,
   "id": "732bc430",
   "metadata": {},
   "outputs": [
    {
     "name": "stdout",
     "output_type": "stream",
     "text": [
      "2024/09/12 07:36:49 INFO mlflow.tracking.fluent: Experiment with name 'random-forest-best-models' does not exist. Creating a new experiment.\n",
      "2024/09/12 07:36:49 WARNING mlflow.sklearn: Failed to log training dataset information to MLflow Tracking. Reason: 'numpy.ndarray' object has no attribute 'toarray'\n",
      "/home/varshithvvs/.cache/pypoetry/virtualenvs/zoomcamp-G3ZoO7PQ-py3.12/lib/python3.12/site-packages/sklearn/metrics/_regression.py:492: FutureWarning: 'squared' is deprecated in version 1.4 and will be removed in 1.6. To calculate the root mean squared error, use the function'root_mean_squared_error'.\n",
      "  warnings.warn(\n",
      "/home/varshithvvs/.cache/pypoetry/virtualenvs/zoomcamp-G3ZoO7PQ-py3.12/lib/python3.12/site-packages/sklearn/metrics/_regression.py:492: FutureWarning: 'squared' is deprecated in version 1.4 and will be removed in 1.6. To calculate the root mean squared error, use the function'root_mean_squared_error'.\n",
      "  warnings.warn(\n",
      "2024/09/12 07:36:59 INFO mlflow.tracking._tracking_service.client: 🏃 View run bustling-fish-503 at: http://0.0.0.0:5000/#/experiments/2/runs/ce9a28f640714fe6a765a5a7d1a74c3b.\n",
      "2024/09/12 07:36:59 INFO mlflow.tracking._tracking_service.client: 🧪 View experiment at: http://0.0.0.0:5000/#/experiments/2.\n",
      "2024/09/12 07:36:59 WARNING mlflow.sklearn: Failed to log training dataset information to MLflow Tracking. Reason: 'numpy.ndarray' object has no attribute 'toarray'\n",
      "/home/varshithvvs/.cache/pypoetry/virtualenvs/zoomcamp-G3ZoO7PQ-py3.12/lib/python3.12/site-packages/sklearn/metrics/_regression.py:492: FutureWarning: 'squared' is deprecated in version 1.4 and will be removed in 1.6. To calculate the root mean squared error, use the function'root_mean_squared_error'.\n",
      "  warnings.warn(\n",
      "/home/varshithvvs/.cache/pypoetry/virtualenvs/zoomcamp-G3ZoO7PQ-py3.12/lib/python3.12/site-packages/sklearn/metrics/_regression.py:492: FutureWarning: 'squared' is deprecated in version 1.4 and will be removed in 1.6. To calculate the root mean squared error, use the function'root_mean_squared_error'.\n",
      "  warnings.warn(\n",
      "2024/09/12 07:37:16 INFO mlflow.tracking._tracking_service.client: 🏃 View run thoughtful-koi-853 at: http://0.0.0.0:5000/#/experiments/2/runs/3679532c0b844399a68171d7e5f2e81e.\n",
      "2024/09/12 07:37:16 INFO mlflow.tracking._tracking_service.client: 🧪 View experiment at: http://0.0.0.0:5000/#/experiments/2.\n",
      "2024/09/12 07:37:16 WARNING mlflow.sklearn: Failed to log training dataset information to MLflow Tracking. Reason: 'numpy.ndarray' object has no attribute 'toarray'\n",
      "/home/varshithvvs/.cache/pypoetry/virtualenvs/zoomcamp-G3ZoO7PQ-py3.12/lib/python3.12/site-packages/sklearn/metrics/_regression.py:492: FutureWarning: 'squared' is deprecated in version 1.4 and will be removed in 1.6. To calculate the root mean squared error, use the function'root_mean_squared_error'.\n",
      "  warnings.warn(\n",
      "/home/varshithvvs/.cache/pypoetry/virtualenvs/zoomcamp-G3ZoO7PQ-py3.12/lib/python3.12/site-packages/sklearn/metrics/_regression.py:492: FutureWarning: 'squared' is deprecated in version 1.4 and will be removed in 1.6. To calculate the root mean squared error, use the function'root_mean_squared_error'.\n",
      "  warnings.warn(\n",
      "2024/09/12 07:37:24 INFO mlflow.tracking._tracking_service.client: 🏃 View run honorable-roo-140 at: http://0.0.0.0:5000/#/experiments/2/runs/ea1f06bf52754ea09aaf77c730052789.\n",
      "2024/09/12 07:37:24 INFO mlflow.tracking._tracking_service.client: 🧪 View experiment at: http://0.0.0.0:5000/#/experiments/2.\n",
      "2024/09/12 07:37:24 WARNING mlflow.sklearn: Failed to log training dataset information to MLflow Tracking. Reason: 'numpy.ndarray' object has no attribute 'toarray'\n",
      "/home/varshithvvs/.cache/pypoetry/virtualenvs/zoomcamp-G3ZoO7PQ-py3.12/lib/python3.12/site-packages/sklearn/metrics/_regression.py:492: FutureWarning: 'squared' is deprecated in version 1.4 and will be removed in 1.6. To calculate the root mean squared error, use the function'root_mean_squared_error'.\n",
      "  warnings.warn(\n",
      "/home/varshithvvs/.cache/pypoetry/virtualenvs/zoomcamp-G3ZoO7PQ-py3.12/lib/python3.12/site-packages/sklearn/metrics/_regression.py:492: FutureWarning: 'squared' is deprecated in version 1.4 and will be removed in 1.6. To calculate the root mean squared error, use the function'root_mean_squared_error'.\n",
      "  warnings.warn(\n",
      "2024/09/12 07:37:31 INFO mlflow.tracking._tracking_service.client: 🏃 View run sincere-pig-743 at: http://0.0.0.0:5000/#/experiments/2/runs/f12358a4c60a4f3ca69d92aa3ec106ed.\n",
      "2024/09/12 07:37:31 INFO mlflow.tracking._tracking_service.client: 🧪 View experiment at: http://0.0.0.0:5000/#/experiments/2.\n",
      "2024/09/12 07:37:31 WARNING mlflow.sklearn: Failed to log training dataset information to MLflow Tracking. Reason: 'numpy.ndarray' object has no attribute 'toarray'\n",
      "/home/varshithvvs/.cache/pypoetry/virtualenvs/zoomcamp-G3ZoO7PQ-py3.12/lib/python3.12/site-packages/sklearn/metrics/_regression.py:492: FutureWarning: 'squared' is deprecated in version 1.4 and will be removed in 1.6. To calculate the root mean squared error, use the function'root_mean_squared_error'.\n",
      "  warnings.warn(\n",
      "/home/varshithvvs/.cache/pypoetry/virtualenvs/zoomcamp-G3ZoO7PQ-py3.12/lib/python3.12/site-packages/sklearn/metrics/_regression.py:492: FutureWarning: 'squared' is deprecated in version 1.4 and will be removed in 1.6. To calculate the root mean squared error, use the function'root_mean_squared_error'.\n",
      "  warnings.warn(\n",
      "2024/09/12 07:37:45 INFO mlflow.tracking._tracking_service.client: 🏃 View run flawless-hare-86 at: http://0.0.0.0:5000/#/experiments/2/runs/0903ecb570c1472faab47c4831bb4026.\n",
      "2024/09/12 07:37:45 INFO mlflow.tracking._tracking_service.client: 🧪 View experiment at: http://0.0.0.0:5000/#/experiments/2.\n",
      "Successfully registered model 'Best Model'.\n",
      "2024/09/12 07:37:45 INFO mlflow.store.model_registry.abstract_store: Waiting up to 300 seconds for model version to finish creation. Model name: Best Model, version 1\n",
      "Created version '1' of model 'Best Model'.\n"
     ]
    }
   ],
   "source": [
    "!python scripts/register_model.py --data_path output"
   ]
  },
  {
   "cell_type": "markdown",
   "id": "c45c861f",
   "metadata": {},
   "source": [
    "##### Answer: 5.567"
   ]
  }
 ],
 "metadata": {
  "colab": {
   "provenance": []
  },
  "kernelspec": {
   "display_name": "Python 3 (ipykernel)",
   "language": "python",
   "name": "python3"
  },
  "language_info": {
   "codemirror_mode": {
    "name": "ipython",
    "version": 3
   },
   "file_extension": ".py",
   "mimetype": "text/x-python",
   "name": "python",
   "nbconvert_exporter": "python",
   "pygments_lexer": "ipython3",
   "version": "3.12.3"
  }
 },
 "nbformat": 4,
 "nbformat_minor": 5
}
